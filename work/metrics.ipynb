{
 "cells": [
  {
   "cell_type": "code",
   "execution_count": 16,
   "metadata": {},
   "outputs": [],
   "source": [
    "#load datasets\n",
    "import pandas as pd\n",
    "import numpy as np\n",
    "import matplotlib.pyplot as plt\n",
    "import seaborn as sns\n",
    "import math"
   ]
  },
  {
   "cell_type": "code",
   "execution_count": 37,
   "metadata": {},
   "outputs": [],
   "source": [
    "from sklearn.metrics import mean_absolute_error, mean_absolute_percentage_error, mean_squared_error\n",
    "def mae(ytrue, ypred): return mean_absolute_error(ytrue, ypred)\n",
    "def mape(ytrue, ypred): return 100 * mean_absolute_percentage_error(ytrue, ypred)\n",
    "def smape(ytrue, ypred): return 200 * np.mean(np.abs(ytrue - ypred) / (np.abs(ytrue) + np.abs(ypred)))\n",
    "def rmse(ytrue, ypred): return math.sqrt(mean_squared_error(ytrue, ypred))\n",
    "def rmae(ytrue, ypred, ynaive): return mean_absolute_error(ytrue, ypred) / mean_absolute_error(ytrue, ynaive)\n",
    "def dae(ytrue, ypred):\n",
    "    try:\n",
    "        error = mae(ytrue.mean(axis=1), ypred.mean(axis=1))\n",
    "    except:\n",
    "        error = mae(ytrue, ypred)\n",
    "    return error"
   ]
  },
  {
   "cell_type": "code",
   "execution_count": 111,
   "metadata": {},
   "outputs": [],
   "source": [
    "os.chdir(\"c://Users//matis//OneDrive//Documents//ENSTA//3A//Capstone//project//tschora//EPFDAML\")\n",
    "from work.models.Feature import Naive\n",
    "from work.models.Splitter import MySplitter\n",
    "dataset = \"2\"\n",
    "\n",
    "def load_naive_forecasts(dataset, country, labels):  \n",
    "    naive_forecasts = {\"train\" : {}, \"test\" : {}, \"validation\": {}, \"test_recalibrated\" : {}}\n",
    "    os.chdir(\"c://Users//matis//OneDrive//Documents//ENSTA//3A//Capstone//project//tschora//EPFDAML\")\n",
    "\n",
    "    if dataset in (\"\", \"2\", \"3\"): nval = 362\n",
    "    else: nval = 365  \n",
    "    spliter = MySplitter(nval, shuffle=False)\n",
    "    model_wrapper = Naive(\"NAIVE\", f\"EPF{dataset}_{country}\", labels) \n",
    "    # Need to re-split for taking the validation prices\n",
    "    X, y = model_wrapper.load_train_dataset()\n",
    "    ((Xtr, ytr), (Xv, yv)) = spliter(X, y)\n",
    "    # Also computes the naive forecasts    \n",
    "    naive_forecasts[\"validation\"][country] = model_wrapper.predict(None, Xv) \n",
    "    naive_forecasts[\"train\"][country] = model_wrapper.predict(None, Xtr)           \n",
    "    Xt, yt = model_wrapper.load_test_dataset()\n",
    "    naive_forecasts[\"test\"][country] = model_wrapper.predict(None, Xt)\n",
    "    naive_forecasts[\"test_recalibrated\"][country] = model_wrapper.predict(None, Xt)  \n",
    "\n",
    "    return naive_forecasts"
   ]
  },
  {
   "cell_type": "code",
   "execution_count": 124,
   "metadata": {},
   "outputs": [
    {
     "name": "stdout",
     "output_type": "stream",
     "text": [
      "Results for FRBE - EPF2 - MLP_TSCHORA_EPF2_FRBE\n",
      "              MAE       MAPE      SMAPE       RMSE      RMAE       DAE\n",
      "General  5.721823  21.957466  15.008659  14.882179  0.736975  2.136997\n",
      "FR       4.791156  15.025672  13.934142  12.382026  0.714893  1.602307\n",
      "BE       6.652491  28.889260  16.083176  17.018929  0.753742  2.671687\n",
      "Results for DEBE - EPF2 - MLP_TSCHORA_EPF2_DEBE\n",
      "              MAE          MAPE      SMAPE       RMSE      RMAE       DAE\n",
      "General  5.677762  1.082490e+14  18.201424  13.010289  0.705734  0.507860\n",
      "DE       4.742462  2.164981e+14  20.642291   6.484919  0.652834  1.386799\n",
      "BE       6.613062  2.897918e+01  15.760557  17.218626  0.749275  2.402519\n"
     ]
    }
   ],
   "source": [
    "country = \"FRBE\"\n",
    "version = \"2\"\n",
    "\n",
    "\n",
    "for country in [\"FRBE\", \"DEBE\"]:\n",
    "    # print(\"country\", country)\n",
    "    os.chdir(\"c://Users//matis//OneDrive//Documents//ENSTA//3A//Capstone//project//tschora//EPFDAML//data\")\n",
    "    path_predict = f\"datasets\\EPF{version}_{country}\\MLP_TSCHORA_EPF{version}_{country}_test_predictions.csv\"\n",
    "    df_predict = pd.read_csv(path_predict, sep=\",\", index_col=None)\n",
    "    path_true = f\"datasets/EPF{version}_{country}/test.csv\"\n",
    "    df_true = pd.read_csv(path_true, sep=\",\", index_col=None)\n",
    "\n",
    "    if len(country)==4:\n",
    "        countries = [country[:2], country[2:]]\n",
    "    elif len(country)==6:\n",
    "        countries = [country[:2], country[2:4], country[4:]]\n",
    "    else:  countries = [country]\n",
    "\n",
    "    cols_price = []\n",
    "    for c in countries:\n",
    "        cols_price += [c+\"_price_\"+str(i) for i in range(24)]\n",
    "    \n",
    "    naive = load_naive_forecasts(version, country, cols_price)\n",
    "\n",
    "\n",
    "    # generalize metrics (on all countries)\n",
    "    ytrue = df_true[cols_price].values.reshape(1,-1)\n",
    "    ypred = df_predict.values.reshape(1,-1)\n",
    "    ynaive = naive[\"test\"][country].reshape(1,-1)\n",
    "    # print(ytrue.shape, ypred.shape, ynaive.shape)\n",
    "    mae_val,mape_val, smape_val, rmse_val, rmae_val, dae_val = mae(ytrue, ypred), mape(ytrue, ypred), smape(ytrue, ypred), rmse(ytrue, ypred), rmae(ytrue, ypred, ynaive), dae(ytrue, ypred)\n",
    "\n",
    "    # single metrics (on single country)\n",
    "    mae_list, mape_list, smape_list, rmse_list, rmae_list, dae_list = [], [], [], [], [], []\n",
    "    for i, c in enumerate(countries):\n",
    "        cols_c = [c+\"_price_\"+str(i) for i in range(24)]\n",
    "        ytrue = df_true[cols_c].values.reshape(1,-1)\n",
    "        ypred = df_predict.iloc[:, 24*i:24*(i+1)].values.reshape(1,-1)\n",
    "        ynaive = naive[\"test\"][country][:, 24*i:24*(i+1)].reshape(1,-1)\n",
    "        mae_list.append(mae(ytrue, ypred))\n",
    "        mape_list.append(mape(ytrue, ypred))\n",
    "        smape_list.append(smape(ytrue, ypred))\n",
    "        rmse_list.append(rmse(ytrue, ypred))\n",
    "        rmae_list.append(rmae(ytrue, ypred, ynaive))\n",
    "        dae_list.append(dae(ytrue, ypred))\n",
    "\n",
    "    # print results in dataframe\n",
    "    res_gen = pd.DataFrame({\"MAE\": mae_val, \"MAPE\": mape_val, \"SMAPE\": smape_val, \"RMSE\": rmse_val, \"RMAE\": rmae_val, \"DAE\": dae_val}, index=[\"General\"])\n",
    "    res_uni = pd.DataFrame({\"MAE\": mae_list, \"MAPE\": mape_list, \"SMAPE\": smape_list, \"RMSE\": rmse_list, \"RMAE\": rmae_list, \"DAE\": dae_list}, index=countries)\n",
    "    res = pd.concat([res_gen, res_uni])\n",
    "    print(f\"Results for {country} - EPF{version} - MLP_TSCHORA_EPF{version}_{country}\")\n",
    "    print(res)\n",
    "        \n",
    "\n",
    "\n",
    "\n"
   ]
  }
 ],
 "metadata": {
  "kernelspec": {
   "display_name": "ds",
   "language": "python",
   "name": "python3"
  },
  "language_info": {
   "codemirror_mode": {
    "name": "ipython",
    "version": 3
   },
   "file_extension": ".py",
   "mimetype": "text/x-python",
   "name": "python",
   "nbconvert_exporter": "python",
   "pygments_lexer": "ipython3",
   "version": "3.10.12"
  }
 },
 "nbformat": 4,
 "nbformat_minor": 2
}
